{
  "cells": [
    {
      "cell_type": "code",
      "execution_count": null,
      "id": "76789684",
      "metadata": {},
      "outputs": [],
      "source": [
        "#[DontProcess]#@70194140"
      ]
    },
    {
      "cell_type": "markdown",
      "id": "3a587622",
      "metadata": {},
      "source": [
        "# Simple GUI\n",
        "In this sandbox, we will focus on creating automations that are a little more involved. For a use case we will create a simple GUI with buttons to show the result of a trained machine learning model. Don't worry, if you aren't super into machine learning, you can simply not care about that part.\n",
        "\n",
        "Why do a GUI example? GUI's are things that many software tools need, but they are developing them is unfamiliar to many devs. This examples shows how something that is usually tedious can be simple through automation. "
      ]
    },
    {
      "cell_type": "markdown",
      "id": "2714c18a",
      "metadata": {},
      "source": [
        "# Initial File\n",
        "First, start by looking over the initial version of the Sandbox.py file. \n",
        "- There's 3 automations that write the code to for the machine learning training. Again, don't worry too much about it. \n",
        "- There's no GUI code yet, we'll create those next. "
      ]
    },
    {
      "cell_type": "markdown",
      "id": "70ddd77b",
      "metadata": {},
      "source": [
        "# Initial GUI\n",
        "Let's start by adding the initial GUI code to our file. \n",
        "\n",
        "First, add these imports to Sandbox.py:"
      ]
    },
    {
      "cell_type": "code",
      "execution_count": null,
      "id": "99548149",
      "metadata": {},
      "outputs": [],
      "source": [
        "from matplotlib.backends.backend_tkagg import (FigureCanvasTkAgg, NavigationToolbar2Tk)",
        "from tkinter import *"
      ]
    },
    {
      "cell_type": "markdown",
      "id": "71149950",
      "metadata": {},
      "source": [
        "Second, add the following to the end of the file: "
      ]
    },
    {
      "cell_type": "code",
      "execution_count": null,
      "id": "94125314",
      "metadata": {},
      "outputs": [],
      "source": [
        "window = Tk()",
        "window.title( 'Training Plots' )",
        "window.geometry(\"800x600\")",
        "\n",
        "window.mainloop()"
      ]
    },
    {
      "cell_type": "markdown",
      "id": "17198452",
      "metadata": {},
      "source": [
        "### Automate\n",
        "At this point, we would typically make sure the automation is working as desired. If Arctic Fox didn't automate already, press the Automate button in the Arcitc Fox pane.\n"
      ]
    },
    {
      "cell_type": "markdown",
      "id": "98788577",
      "metadata": {},
      "source": [
        "Throughout this sandbox we provide reference solutions. Take a look at the solution and compare it to your sandbox. \n",
        "\n",
        "[Compare to Sandbox.py Solution](./../Solutions/SolutionStep1.py)"
      ]
    },
    {
      "cell_type": "markdown",
      "id": "95511738",
      "metadata": {},
      "source": [
        "### Run the Python\n",
        "If you'd like, go ahead and run the python file and see the empty GUI window. "
      ]
    },
    {
      "cell_type": "markdown",
      "id": "70634184",
      "metadata": {},
      "source": [
        "<hr>"
      ]
    },
    {
      "cell_type": "markdown",
      "id": "7e34653f",
      "metadata": {},
      "source": [
        "# Make Basic GUI into Automation\n",
        "Let's take the above, and make it into an automation. We've got 3 pieces of code that are needed in various places in the file:\n",
        "- Imports\n",
        "- Creating the window\n",
        "- Starting the loop\n",
        "These pieces need to be in the correct place for the GUI to work correctly. \n",
        "\n",
        "### Mindset \n",
        "This time around, let's think about our mindset. It might be easy to say, why make the initial GUI code into an automation? Making this automation is for future use, or for others to use, not so much to reuse in this project. \n",
        "\n",
        "### Make GUI Automation\n",
        "Let's use the previously added code to make our GUI automation.\n",
        "\n",
        "First, add automation brackets to the Sandbox.py file. Add a name to the automation, we chode GUI. \n",
        "\n",
        "Second, drag and drop the imports, the code to create the window, and the code starting the loop into the automation.  \n",
        "\n",
        "Third, open the GUI automation file by clicking \"open\" above the automation. Modify the automation such that: \n",
        "- Imports are under the entry point self.CodeImport\n",
        "- Creating window code is under the entry point self.CodeAfterAutomation\n",
        "- Satrting the loop is under the self.CodeScriptEnd entry point.\n",
        "\n",
        "Fourth, add an item named \"name\".\n",
        "\n",
        "[Compare with Sandbox.py Solution](./../Solutions/SolutionStep2.py)\n",
        "\n",
        "[Compare to GUI.py (the automation) Solution](./../Solutions/SolutionAutomationStep2.py)\n"
      ]
    },
    {
      "cell_type": "markdown",
      "id": "b8f441eb",
      "metadata": {},
      "source": [
        "### Automate\n",
        "If Arctic Fox didn't automate already, press the Automate button in the Arcitc Fox pane, or press alt+x.\n"
      ]
    },
    {
      "cell_type": "markdown",
      "id": "71047737",
      "metadata": {},
      "source": [
        "<hr>"
      ]
    },
    {
      "cell_type": "markdown",
      "id": "28152242",
      "metadata": {},
      "source": [
        "# GUI Buttons and Plots\n",
        "Now it's time start on the GUI elements for plotting the ML training and results. We are going to create two automations that can be used multiple times for different buttons and different graphs. \n",
        "\n",
        "### Plan\n",
        "When we work with data and training, what we like to do is:\n",
        "- See the data\n",
        "- Get a feel for the distribution\n",
        "- Understand the result\n",
        "\n",
        "Therefore, in our mnist GUI, we want to add buttons to be able to:\n",
        "- Show a training handwritten number image\n",
        "- Graph the distribution of pixel values\n",
        "- Graph the distribution of number labels\n",
        "- Graph the training loss\n",
        "- Graph the training accuracy\n",
        "- Graph the confusion matrix\n",
        "\n",
        "That may seem like a lot, BUT! we are using automations, most of the code we've written before. And the code that hasn't been? Well, we are going to write it as an automation, so we can reuse it. \n",
        "\n",
        "Let's start by creating our first button, displaying a training image. "
      ]
    },
    {
      "cell_type": "markdown",
      "id": "67355635",
      "metadata": {},
      "source": [
        "### Training Image Button\n",
        "For each button we will need a function to run when the button is pressed and code to attach the button to a window. Let's create the function first!\n",
        "\n",
        "***Button Function***\n",
        "\n",
        "First do the following two steps to start writing the function: \n",
        "- Add a new function to the end of the script, call it: showTrainingImage. The function needs no arguments. \n",
        "- Add a [**Visualize** --sampleImage] autmation to the function.\n",
        "\n",
        "Now let's add code to the function to add the function's plot to the GUI window. Add the following code where specified: \n",
        "- Start of the function: "
      ]
    },
    {
      "cell_type": "code",
      "execution_count": null,
      "id": "20478022",
      "metadata": {},
      "outputs": [],
      "source": [
        "plt.figure()"
      ]
    },
    {
      "cell_type": "markdown",
      "id": "95842163",
      "metadata": {},
      "source": [
        "- After Visualize automation: "
      ]
    },
    {
      "cell_type": "code",
      "execution_count": null,
      "id": "50902707",
      "metadata": {},
      "outputs": [],
      "source": [
        "fig = plt.gcf()",
        "canvas = FigureCanvasTkAgg(fig, master=window)",
        "canvas_widget = canvas.get_tk_widget()",
        "canvas_widget.grid(row=1, column=0, columnspan=window.grid_size()[0], pady=10)"
      ]
    },
    {
      "cell_type": "markdown",
      "id": "49549723",
      "metadata": {},
      "source": [
        "***Add Button to GUI***\n",
        "\n",
        "Now, the last thing to do is add the code to add the button to the GUI. \n",
        "- Add the following after the showTrainingImage function, but not indented in the function:"
      ]
    },
    {
      "cell_type": "code",
      "execution_count": null,
      "id": "18747396",
      "metadata": {},
      "outputs": [],
      "source": [
        "plot_button = Button(master = window,",
        "    command = showTrainingImage,",
        "    height = 2,",
        "    width = 19,",
        "    text = 'Show Training Image' )",
        "plot_button.grid(row=0, column=0, padx=5)",
        "window.columnconfigure( 0, weight=1)"
      ]
    },
    {
      "cell_type": "markdown",
      "id": "50245218",
      "metadata": {},
      "source": [
        "[Compare with Sandbox.py Solution](./../Solutions/SolutionStep3.py)"
      ]
    },
    {
      "cell_type": "markdown",
      "id": "10073259",
      "metadata": {},
      "source": [
        "### Automate\n",
        "If Arctic Fox didn't automate already, press the Automate button in the Arcitc Fox pane, or the shortcut, alt+x.\n"
      ]
    },
    {
      "cell_type": "markdown",
      "id": "65428217",
      "metadata": {},
      "source": [
        "### Run Python\n",
        "Run the python script to see the button in the GUI. Press the button to see the sample image!"
      ]
    },
    {
      "cell_type": "markdown",
      "id": "71083022",
      "metadata": {},
      "source": [
        "<hr>"
      ]
    },
    {
      "cell_type": "markdown",
      "id": "83986325",
      "metadata": {},
      "source": [
        "# Automate GUI Button\n",
        "Next, let's turn the added code into an automation to reuse. \n",
        "\n",
        "1) Add a blank automation in the showTrainingImage function, after the Visualize automation. Give it the name AddPlotToWindow.\n",
        "\n",
        "2) Drag and drop into AddPlotToWindow the line below. Change the entry point to CodeScopeStart. "
      ]
    },
    {
      "cell_type": "code",
      "execution_count": null,
      "id": "31588133",
      "metadata": {},
      "outputs": [],
      "source": [
        "plt.figure()"
      ]
    },
    {
      "cell_type": "markdown",
      "id": "78828442",
      "metadata": {},
      "source": [
        "3) Drag and drop into AddPlotToWindow the lines. Change the entry point to CodeMagix - we'll explain shortly, and we'll make some edits in a moment. "
      ]
    },
    {
      "cell_type": "code",
      "execution_count": null,
      "id": "95574590",
      "metadata": {},
      "outputs": [],
      "source": [
        "fig = plt.gcf()",
        "canvas = FigureCanvasTkAgg(fig, master=window)",
        "canvas_widget = canvas.get_tk_widget()",
        "canvas_widget.grid(row=1, column=0, columnspan=window.grid_size()[0], pady=10)"
      ]
    },
    {
      "cell_type": "markdown",
      "id": "77508192",
      "metadata": {},
      "source": [
        "4) Add a blank automation right above the showTrainingImage function, leave no blank lines inbetween the automation and def showTrainingImage. Name the automation GUIButton. Drag the following lines into the automation. Change the entry point to CodeAfterNext. "
      ]
    },
    {
      "cell_type": "code",
      "execution_count": null,
      "id": "87254065",
      "metadata": {},
      "outputs": [],
      "source": [
        "plot_button = Button(master = window,",
        "    command = showTrainingImage,",
        "    height = 2,",
        "    width = 19,",
        "    text = 'Show Training Image' )",
        "plot_button.grid(row=0, column=0, padx=5)",
        "window.columnconfigure( 0, weight=1)"
      ]
    },
    {
      "cell_type": "markdown",
      "id": "86811001",
      "metadata": {},
      "source": [
        "5) Just to copy how we would style these automations such that they are all placed before the def showTrainingImage line. Each automation should be on its own line and should not have empty lines between them. The order should be Visualize, AddPlotToWindow, and then GUIButton. To move the automations, you can press ctrl+x (cut) with the curson on the automation's line, and then ctrl+v (paste) on the desired line."
      ]
    },
    {
      "cell_type": "markdown",
      "id": "43349075",
      "metadata": {},
      "source": [
        "### Automate\n",
        "If Arctic Fox didn't automate already, press the Automate button in the Arcitc Fox pane, or the shortcut, alt+x.\n"
      ]
    },
    {
      "cell_type": "markdown",
      "id": "74523866",
      "metadata": {},
      "source": [
        "[Compare with Sandbox.py Solution](./../Solutions/SolutionStep4.py)\n",
        "\n",
        "[Compare with AddPlotToWindow.py Solution](./../Solutions/AddPlotToWindowStep4.py)\n",
        "\n",
        "[Compare with GUIButton.py Solution](./../Solutions/GUIButtonStep4.py)"
      ]
    },
    {
      "cell_type": "markdown",
      "id": "86377386",
      "metadata": {},
      "source": [
        "<hr>"
      ]
    },
    {
      "cell_type": "markdown",
      "id": "78928049",
      "metadata": {},
      "source": [
        "# Modify Automations\n",
        "Now, we have working automations, however, we need to tweak them just a bit to make it easy to add more buttons. This is to make the automations more dynamic and adaptable. Let's start with the GUIButton automation, so open it. "
      ]
    },
    {
      "cell_type": "markdown",
      "id": "93666596",
      "metadata": {},
      "source": [
        "### Variable Interpolation\n",
        "You might be wondering, how do we put calculated values into the automated code? Well, we use interpolation, which is very similar to string interpolation! Any value/equation under an entry point that is surround by double parenthesis will be interpolated. For example, if we had the line:\n",
        "```python\n",
        "hello = 'hi there!'\n",
        "with self.CodeAfterAutomation:\n",
        "    print('((hello))')\n",
        "```\n",
        "Arctic Fox would not write: print('hello'), it would use the value of hello, which is \"hi there!\", and write: print('hi there!). \n",
        "\n",
        "We'll use variable interpolation in the following edits. "
      ]
    },
    {
      "cell_type": "markdown",
      "id": "30491845",
      "metadata": {},
      "source": [
        "### GUIButton\n",
        "To modify the GUIButton automation we will determine and set a name for the button and modify the button's column. \n",
        "\n",
        "***Button Name***\n",
        "\n",
        "Before the entry point, but within the ApplyAutomation function, let's determine a name for the button. Remember, the automation code outside of an entry point is normal python code, we can perform an algorithmic step.  \n",
        "\n",
        "1) Let's get the name of the attached function. We can do this using the Arctic Fox API. Let's get the function's name with the following code.: "
      ]
    },
    {
      "cell_type": "code",
      "execution_count": null,
      "id": "97781975",
      "metadata": {},
      "outputs": [],
      "source": [
        "command = self.CodeScope.Name"
      ]
    },
    {
      "cell_type": "markdown",
      "id": "75342986",
      "metadata": {},
      "source": [
        "2. After we get the function name with the code above, for fun, let's space out the words. With this regular expression, we can get the name of the function spaced out and capitalized. Use this line after we get the code scope's name. \n",
        "\n",
        "    a. Don't forget to import re into the GUIButton file!"
      ]
    },
    {
      "cell_type": "code",
      "execution_count": null,
      "id": "85286412",
      "metadata": {},
      "outputs": [],
      "source": [
        "commandStyled = re.sub(r\"([a-z])([A-Z])\", r\"\\1 \\2\", str(command)).title()"
      ]
    },
    {
      "cell_type": "markdown",
      "id": "42054072",
      "metadata": {},
      "source": [
        "3. Next, we need interpolate the name into the automated code under the entry point. Make the following changes:\n",
        "- Change the value of the command argument to interpolate command.\n",
        "- Change the width of the button to interpolate the equation: len(commandStyled) + 2\n",
        "- Change the text to interpolate commandStyled. You will want this to be viewed as a string, so make sure the interpolation is within quotes. "
      ]
    },
    {
      "cell_type": "markdown",
      "id": "14242130",
      "metadata": {},
      "source": [
        "Go ahead and check to see how well your interpolation is working. \n",
        "- Automate the code and see if the result matches what you expect. \n",
        "- Check the solution below to see how yours compares. "
      ]
    },
    {
      "cell_type": "markdown",
      "id": "74118695",
      "metadata": {},
      "source": [
        "[Compare with Sandbox.py Solution](./../Solutions/SolutionStep5.py)\n",
        "\n",
        "[Compare with GUIButton.py Solution](./../Solutions/GUIButtonStep5.py)"
      ]
    },
    {
      "cell_type": "markdown",
      "id": "26958598",
      "metadata": {},
      "source": [
        "***Button Column***\n",
        "\n",
        "Now let's think about the button's position. Tkinter isn't the greatest graphical interface, this sandbox just uses it for an example. What it does have in common with many GUIs is some form of laying out GUI components. In this case we need to assign each button to its own column. \n",
        "\n",
        "Currently, our GUIButton automation assigns column to 0 each time it is used. Instead, let's do the following to assign each button to a new column.\n",
        "\n",
        "- Create a class variable that keeps track of the number of GUIButton automations create. We call ours _buttonCount. \n",
        "  - You create a class variable by placing it outside of any functions, just right under the class definition.\n",
        "  - Set _buttonCount to 0 to start.\n",
        "  - Why _buttonCount? We follow a pattern that starts class variables with an _, especially when they are meant to remain private. \n",
        "- Set column to interpolate _buttonCount in plot_button.grid(...) instead of 0.\n",
        "  - To refer to a class variable, you do ClassName.ClassVariable, so in this case, you can use GUIButton._buttonCount\n",
        "- Change the 0 in window.columnconfig to interpolate _buttonCount.\n",
        "- At the end of the ApplyAutomation function, increment _buttonCount. \n",
        "  - Remember to always refer to the class variable through the class name"
      ]
    },
    {
      "cell_type": "markdown",
      "id": "67188685",
      "metadata": {},
      "source": [
        "Check your GUIButton automation against the solution:\n",
        "\n",
        "[Compare with GUIButton.py Solution](./../Solutions/GUIButtonStep6.py)"
      ]
    },
    {
      "cell_type": "markdown",
      "id": "84207280",
      "metadata": {},
      "source": [
        "### Reflect\n",
        "Let's take a quick moment and reflect on the GUIButton. The instructions may seem a little lengthy, but that is only because we are trying to be verbose and explanatory. \n",
        "\n",
        "If you look at the GUIButton code, it looks very close to the initial code used to create the button. The only things we changed were pieces that were modified to make the code dynamic and applicable to a wider range of situations. \n",
        "\n",
        "This enables us to think a bit about a core tenant Arctic Fox is built on. Most of the code we write is general purpose and modified to our use case. Arctic Fox allows us now to write the general purpose code, as well as logic to modify it for many uses. "
      ]
    },
    {
      "cell_type": "markdown",
      "id": "89491707",
      "metadata": {},
      "source": [
        "### AddPlotToWindow\n",
        "Almost done modifying the automations. The last thing we need to do is touch up AddPlotToWindow. You may have noticed that when you click a button, currently it opens another window with the plot, instead of applying it to our GUI window. Let's change that. \n",
        "\n",
        "What we want to do is find the automation that creates the plot, and more specifically the plt.show() function, and tell that automation to comment out the plt.show(). \n",
        "\n",
        "Add the following code to your AddPlotToWindow automation at the start of the ApplyAutomation function:  "
      ]
    },
    {
      "cell_type": "code",
      "execution_count": null,
      "id": "48339235",
      "metadata": {},
      "outputs": [],
      "source": [
        "visualize : Visualize = self.SelectFrom('Visualize', self.CodeScope)",
        "if visualize != None:",
        "    visualize.CommentOutPltShow()"
      ]
    },
    {
      "cell_type": "markdown",
      "id": "99987228",
      "metadata": {},
      "source": [
        "Here's what's happening above: \n",
        "- We check, and get, a Visualize automation from the code scope\n",
        "- If there wasn't a Visualize automation, visualize would be None\n",
        "- If there was a Visualize automation, we'll get it and call its CommenOutPltShow function\n",
        "    - This will make the automation comment out plt.show(), and therefore prevent a new window from opening"
      ]
    },
    {
      "cell_type": "markdown",
      "id": "40437752",
      "metadata": {},
      "source": [
        "Now, repeat the above for the Histogram automation"
      ]
    },
    {
      "cell_type": "markdown",
      "id": "97116796",
      "metadata": {},
      "source": [
        "### Automate\n",
        "If Arctic Fox didn't automate already, press the Automate button in the Arcitc Fox pane, or the shortcut, alt+x.\n",
        "\n",
        "Look at the showTrainingImage function, you should see plt.show() commented out. \n",
        "\n",
        "### Run Python\n",
        "To see the difference, run the python script and see that the additional window is not opened and the sample image is shown in the GUI window. \n",
        "\n",
        "\n",
        "### Check Solution\n",
        "[Compare with Sandbox.py Solution](./../Solutions/SolutionStep7.py)\n",
        "\n",
        "[Compare with AddPlotToWindow.py Solution](./../Solutions/AddPlotToWindowStep7.py)"
      ]
    },
    {
      "cell_type": "markdown",
      "id": "41766976",
      "metadata": {},
      "source": [
        "<hr>"
      ]
    },
    {
      "cell_type": "markdown",
      "id": "60227941",
      "metadata": {},
      "source": [
        "# Adding Buttons\n",
        "Great, we've modified our automations to make them more dynamic and versatile. Now, let's add more buttons to our GUI. We'll use the automations we made, as well as other plotting automations, to simplify this part.\n",
        "\n",
        "We already have out GUI showing a sample image from our dataset, now, we want our GUI to show us the following: \n",
        "- Graph the distribution of pixel values\n",
        "- Graph the distribution of number labels\n",
        "- Graph the training loss\n",
        "- Graph the training accuracy\n",
        "- Graph the confusion matrix\n",
        "\n",
        "### Add Functions\n",
        "Let's start by adding a funciton to our script for each of these. These functions do not need any arguments. We called our functions, respectively: \n",
        "- pixelHistogram\n",
        "- labelHistogram\n",
        "- plotLoss\n",
        "- plotAccuracy\n",
        "- plotConfusionMatrix\n",
        "\n",
        "### Add Visualization Automations\n",
        "Now, add automations to each function (attached right before the function definition) to visualize the desired data. You should add the respective automations: "
      ]
    },
    {
      "cell_type": "code",
      "execution_count": null,
      "id": "57342080",
      "metadata": {},
      "outputs": [],
      "source": [
        "#[Histogram mnist_train_images]",
        "\n",
        "\n",
        "#[Histogram labels]",
        "\n",
        "\n",
        "#[Visualize --loss]",
        "\n",
        "\n",
        "#[Visualize --accuracy]",
        "\n",
        "\n",
        "#[Visualize --coconfusionMatrix]"
      ]
    },
    {
      "cell_type": "markdown",
      "id": "19382142",
      "metadata": {},
      "source": [
        "Check your functions against the solution:\n",
        "\n",
        "[Compare with Sandbox.py Solution](./../Solutions/SolutionStep8.py)"
      ]
    },
    {
      "cell_type": "markdown",
      "id": "60828357",
      "metadata": {},
      "source": [
        "### Labels\n",
        "You may have noticed that we don't have the labels variable created that we fed into the second Histogram automation. Just add the following line to create an array of the labels somewhere before the labelHistogram function: "
      ]
    },
    {
      "cell_type": "code",
      "execution_count": null,
      "id": "68236470",
      "metadata": {},
      "outputs": [],
      "source": [
        "labels = [np.argmax(label) for label in mnist_training_labels]"
      ]
    },
    {
      "cell_type": "markdown",
      "id": "29371917",
      "metadata": {},
      "source": [
        "### AddPlotToWindow and GUIButton automations\n",
        "For each of the functions we just made, add two automations before the function definition, but after the attached Visualization automation. Just add a:\n",
        "- AddPlotToWindow automation\n",
        "- GUIButton automation\n",
        "\n",
        "That's it! And then, you've got usable buttons added to your GUI!"
      ]
    },
    {
      "cell_type": "markdown",
      "id": "21816905",
      "metadata": {},
      "source": [
        "Check your functions against the solution:\n",
        "\n",
        "[Compare with Sandbox.py Solution](./../Solutions/SolutionStep9.py)"
      ]
    },
    {
      "cell_type": "markdown",
      "id": "42158718",
      "metadata": {},
      "source": [
        "### Automate\n",
        "If Arctic Fox didn't automate already, press the Automate button in the Arcitc Fox pane, or the shortcut, alt+x.\n",
        "\n",
        "### Run Python\n",
        "You should have a fully function GUI / app! Looking back now, you wrote a handful of lines and Arctic Fox wrote anothe 200+ lines of code. We hope you enjoyed this example and are starting to see how together we can completely change how the World develops software!"
      ]
    },
    {
      "cell_type": "code",
      "execution_count": null,
      "id": "cda542cc",
      "metadata": {},
      "outputs": [],
      "source": []
    }
  ],
  "metadata": {
    "language_info": {
      "name": "python"
    },
    "orig_nbformat": 4
  },
  "nbformat": 4,
  "nbformat_minor": 5
}